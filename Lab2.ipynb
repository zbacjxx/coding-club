{
 "cells": [
  {
   "cell_type": "markdown",
   "metadata": {},
   "source": [
    "# Lab 2 - Welcome Back!\n",
    "Last week we:\n",
    "1. Install Miniconda3 - A package/environment manager for python\n",
    "2. Created an \"Environment\" for Jupyter Lab and installed some packages to allow us to use Jupyter Lab\n",
    "3. Ran Jupyter Lab, and had a look at variables - \"Things that we store in the computers memory\"\n",
    "\n",
    "In this lab, we will take a deeper look at variables and \"Types\", and using libraries to do interesting things to variables by making the computer perform \"work\" for us\n",
    "\n",
    "When we use a variable, we are storing that value in the computers memory.  In the below cell, type in your name and your age"
   ]
  },
  {
   "cell_type": "code",
   "execution_count": 8,
   "metadata": {},
   "outputs": [],
   "source": [
    "name=\"Rich\"\n",
    "age=44"
   ]
  },
  {
   "cell_type": "markdown",
   "metadata": {},
   "source": [
    "We now have your <b>name</b> and <b>age</b> store in the computers memory - Python has worked out the \"Type\" as the computer needs to know how much memory to allocate for the storage\n",
    "\n",
    "Rune the below cell to see the \"type\" of each variable.\n",
    "\n",
    "Note we are using 2 inbuilt Python functions to get this information\n",
    "1. print - This prints to screen\n",
    "2. type - This tells us the type name of the variable"
   ]
  },
  {
   "cell_type": "code",
   "execution_count": 6,
   "metadata": {},
   "outputs": [
    {
     "name": "stdout",
     "output_type": "stream",
     "text": [
      "<class 'str'>\n",
      "<class 'int'>\n"
     ]
    }
   ],
   "source": [
    "print(type(name))\n",
    "print(type(age))"
   ]
  },
  {
   "cell_type": "markdown",
   "metadata": {},
   "source": [
    "A \"str\" id a \"String\" or a piece of text\n",
    "An \"int\" is an \"Integer\" - or a \"whole number\" like 1,2,3,4,5 (but not 1.5)\n",
    "Lets look at some other types, starting with different \"types\" of number"
   ]
  },
  {
   "cell_type": "code",
   "execution_count": 10,
   "metadata": {},
   "outputs": [
    {
     "name": "stdout",
     "output_type": "stream",
     "text": [
      "<class 'float'>\n",
      "Value of variable: 0.5\n"
     ]
    }
   ],
   "source": [
    "number = 1/2\n",
    "print(type(number))\n",
    "print(f\"Value of variable: {number}\")"
   ]
  },
  {
   "cell_type": "markdown",
   "metadata": {},
   "source": [
    "Now lets look at dates"
   ]
  },
  {
   "cell_type": "code",
   "execution_count": 15,
   "metadata": {},
   "outputs": [
    {
     "name": "stdout",
     "output_type": "stream",
     "text": [
      "2021-05-22\n",
      "Value of variable: <class 'datetime.date'>\n"
     ]
    }
   ],
   "source": [
    "#First we need to import the Python Library that allows us to work with dates and time\n",
    "from datetime import date\n",
    "#Lets use the date library to get the computer tell us what today is\n",
    "today=date.today()\n",
    "#And finally, lets print out the value of today, and get Python to show us the Type\n",
    "print(date.today())\n",
    "print(f\"Value of variable: {type(today)}\")"
   ]
  },
  {
   "cell_type": "code",
   "execution_count": null,
   "metadata": {},
   "outputs": [],
   "source": []
  }
 ],
 "metadata": {
  "kernelspec": {
   "display_name": "Python 3",
   "language": "python",
   "name": "python3"
  },
  "language_info": {
   "codemirror_mode": {
    "name": "ipython",
    "version": 3
   },
   "file_extension": ".py",
   "mimetype": "text/x-python",
   "name": "python",
   "nbconvert_exporter": "python",
   "pygments_lexer": "ipython3",
   "version": "3.7.5"
  }
 },
 "nbformat": 4,
 "nbformat_minor": 4
}
