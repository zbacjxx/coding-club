{
 "cells": [
  {
   "cell_type": "markdown",
   "metadata": {},
   "source": [
    "# Lab 2 - Welcome Back!\n",
    "Last week we:\n",
    "1. Install Miniconda3 - A package/environment manager for python\n",
    "2. Created an \"Environment\" for Jupyter Lab and installed some packages to allow us to use Jupyter Lab\n",
    "3. Ran Jupyter Lab, and had a look at variables - \"Things that we store in the computers memory\"\n",
    "\n",
    "In this lab, we will take a deeper look at variables and \"Types\", and using libraries to do interesting things to variables by making the computer perform \"work\" for us\n",
    "\n",
    "When we use a variable, we are storing that value in the computers memory.  In the below cell, type in your name and your age"
   ]
  },
  {
   "cell_type": "code",
   "execution_count": 1,
   "metadata": {},
   "outputs": [],
   "source": [
    "name=\"Rich\"\n",
    "age=44"
   ]
  },
  {
   "cell_type": "markdown",
   "metadata": {},
   "source": [
    "## Variable Types\n",
    "We now have your <b>name</b> and <b>age</b> store in the computers memory - Python has worked out the \"Type\" as the computer needs to know how much memory to allocate for the storage\n",
    "\n",
    "Rune the below cell to see the \"type\" of each variable.\n",
    "\n",
    "Note we are using 2 inbuilt Python functions to get this information\n",
    "1. print - This prints to screen\n",
    "2. type - This tells us the type name of the variable"
   ]
  },
  {
   "cell_type": "code",
   "execution_count": 6,
   "metadata": {},
   "outputs": [
    {
     "name": "stdout",
     "output_type": "stream",
     "text": [
      "<class 'str'>\n",
      "<class 'int'>\n"
     ]
    }
   ],
   "source": [
    "print(type(name))\n",
    "print(type(age))"
   ]
  },
  {
   "cell_type": "markdown",
   "metadata": {},
   "source": [
    "## Strings, Integers and More!\n",
    "A \"str\" id a \"String\" or a piece of text\n",
    "An \"int\" is an \"Integer\" - or a \"whole number\" like 1,2,3,4,5 (but not 1.5)\n",
    "Lets look at some other types, starting with different \"types\" of number"
   ]
  },
  {
   "cell_type": "code",
   "execution_count": 10,
   "metadata": {},
   "outputs": [
    {
     "name": "stdout",
     "output_type": "stream",
     "text": [
      "<class 'float'>\n",
      "Value of variable: 0.5\n"
     ]
    }
   ],
   "source": [
    "number = 1/2\n",
    "print(type(number))\n",
    "print(f\"Value of variable: {number}\")"
   ]
  },
  {
   "cell_type": "markdown",
   "metadata": {},
   "source": [
    "## Dates\n",
    "Now lets look at dates - we will need to import the datetime library"
   ]
  },
  {
   "cell_type": "code",
   "execution_count": 22,
   "metadata": {},
   "outputs": [
    {
     "name": "stdout",
     "output_type": "stream",
     "text": [
      "Value of variable: 2021-05-23\n",
      "Type of variable: <class 'datetime.date'>\n"
     ]
    }
   ],
   "source": [
    "#First we need to import the Python Library that allows us to work with dates and time\n",
    "from datetime import date\n",
    "#Lets use the date library to get the computer tell us what today is using the today() inbuilt function\n",
    "\n",
    "#And finally, lets print out the value of today, and get Python to show us the Type\n",
    "print(f\"Value of variable: {today}\")\n",
    "print(f\"Type of variable: {type(today)}\")"
   ]
  },
  {
   "cell_type": "code",
   "execution_count": 19,
   "metadata": {},
   "outputs": [
    {
     "name": "stdout",
     "output_type": "stream",
     "text": [
      "1977-01-26\n"
     ]
    }
   ],
   "source": [
    "#Add in your birthday to a new Date variable\n",
    "birthday=date(1977,1,26)\n",
    "print(birthday)\n",
    "print(f\"birthday is: {today}\")\n",
    "print(f\"Type of birthday: {type(today)}\")"
   ]
  },
  {
   "cell_type": "markdown",
   "metadata": {},
   "source": [
    "## How old are you in days\n",
    "Programming languages like Python let us do interesting things with the data with variables - lets calculate how old you are in days!"
   ]
  },
  {
   "cell_type": "code",
   "execution_count": 23,
   "metadata": {},
   "outputs": [
    {
     "name": "stdout",
     "output_type": "stream",
     "text": [
      "16188\n"
     ]
    }
   ],
   "source": [
    "#lets work out a \"delta\" (posh word for difference) between 2 dates by subtracting our birthday from today\n",
    "delta = today-birthday\n",
    "#The \"delta\" lets us print out the difference in days:\n",
    "print(delta.days)"
   ]
  },
  {
   "cell_type": "markdown",
   "metadata": {},
   "source": [
    "## How old are you in years\n",
    "We need to inport another library to help us get your age in years, so lets have a look at how we do that"
   ]
  },
  {
   "cell_type": "code",
   "execution_count": 45,
   "metadata": {},
   "outputs": [
    {
     "name": "stdout",
     "output_type": "stream",
     "text": [
      "44\n",
      "27\n"
     ]
    }
   ],
   "source": [
    "#Import the dateutil library \n",
    "from dateutil.relativedelta import relativedelta\n",
    "difference_in_years = relativedelta(today, birthday).years\n",
    "print(difference_in_years)"
   ]
  },
  {
   "cell_type": "markdown",
   "metadata": {},
   "source": [
    "## Lets put it all together and create a reusable function of our own and calculate the age of each family member\n",
    "\n",
    "A function can be defined using the word \"def\" with a function name followed by a \":\" e.g."
   ]
  },
  {
   "cell_type": "code",
   "execution_count": 41,
   "metadata": {},
   "outputs": [],
   "source": [
    "def hello_world():\n",
    "    print(\"Hello World\")\n",
    "    "
   ]
  },
  {
   "cell_type": "markdown",
   "metadata": {},
   "source": [
    "We can then call our function e.g."
   ]
  },
  {
   "cell_type": "code",
   "execution_count": 42,
   "metadata": {},
   "outputs": [
    {
     "name": "stdout",
     "output_type": "stream",
     "text": [
      "Hello World\n"
     ]
    }
   ],
   "source": [
    "hello_world()"
   ]
  },
  {
   "cell_type": "markdown",
   "metadata": {},
   "source": [
    "## Arguments - No not shouty ones\n",
    "We can  add \"arguments\" to our functions - these are basically variables that you can use in the function e.g."
   ]
  },
  {
   "cell_type": "code",
   "execution_count": 43,
   "metadata": {},
   "outputs": [],
   "source": [
    "def hello_world2(message):\n",
    "    print(f\"Hello there, my message is: {message}\")"
   ]
  },
  {
   "cell_type": "markdown",
   "metadata": {},
   "source": [
    "Now lets call it....."
   ]
  },
  {
   "cell_type": "code",
   "execution_count": 44,
   "metadata": {},
   "outputs": [
    {
     "name": "stdout",
     "output_type": "stream",
     "text": [
      "Hello there, my message is:I love python\n"
     ]
    }
   ],
   "source": [
    "hello_world2(\"I love python\")"
   ]
  },
  {
   "cell_type": "code",
   "execution_count": 46,
   "metadata": {},
   "outputs": [],
   "source": [
    "def calculate_age(name, birthday):\n",
    "    today=date.today()\n",
    "    difference_in_years = relativedelta(today, birthday).years\n",
    "    delta = today-birthday\n",
    "    difference_in_days = delta.days\n",
    "    print(f\"{name} is {difference_in_years} years old!\")\n",
    "    print(f\"{name} has been alive for {difference_in_days} days!\")\n",
    "    print(\"-------------------\")\n",
    "    print(\"\")\n"
   ]
  },
  {
   "cell_type": "code",
   "execution_count": 47,
   "metadata": {},
   "outputs": [
    {
     "name": "stdout",
     "output_type": "stream",
     "text": [
      "Rich is 44 years old!\n",
      "Rich has been alive for 16188 days!\n",
      "-------------------\n",
      "\n"
     ]
    }
   ],
   "source": [
    "calculate_age(\"Rich\", date(1977,1,26))"
   ]
  },
  {
   "cell_type": "code",
   "execution_count": 48,
   "metadata": {},
   "outputs": [
    {
     "name": "stdout",
     "output_type": "stream",
     "text": [
      "Isaac is 12 years old!\n",
      "Isaac has been alive for 4747 days!\n",
      "-------------------\n",
      "\n"
     ]
    }
   ],
   "source": [
    "calculate_age(\"Isaac\", date(2008,5,24))"
   ]
  },
  {
   "cell_type": "code",
   "execution_count": null,
   "metadata": {},
   "outputs": [],
   "source": []
  }
 ],
 "metadata": {
  "kernelspec": {
   "display_name": "Python 3",
   "language": "python",
   "name": "python3"
  },
  "language_info": {
   "codemirror_mode": {
    "name": "ipython",
    "version": 3
   },
   "file_extension": ".py",
   "mimetype": "text/x-python",
   "name": "python",
   "nbconvert_exporter": "python",
   "pygments_lexer": "ipython3",
   "version": "3.7.5"
  }
 },
 "nbformat": 4,
 "nbformat_minor": 4
}
